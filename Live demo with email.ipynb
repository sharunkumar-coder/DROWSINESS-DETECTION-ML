{
 "cells": [
  {
   "cell_type": "code",
   "execution_count": 1,
   "id": "5fc561b9",
   "metadata": {},
   "outputs": [],
   "source": [
    "from email.mime.text import MIMEText\n",
    "from email.mime.image import MIMEImage\n",
    "from email.mime.application import MIMEApplication\n",
    "from email.mime.multipart import MIMEMultipart\n",
    "import smtplib\n",
    "import os\n"
   ]
  },
  {
   "cell_type": "code",
   "execution_count": 2,
   "id": "b6ac1fff",
   "metadata": {},
   "outputs": [
    {
     "data": {
      "text/plain": [
       "(235, b'2.7.0 Accepted')"
      ]
     },
     "execution_count": 2,
     "metadata": {},
     "output_type": "execute_result"
    }
   ],
   "source": [
    "smtp = smtplib.SMTP('smtp.gmail.com', 587)\n",
    "smtp.ehlo()\n",
    "smtp.starttls()\n",
    "smtp.login('drowsyab2021@gmail.com', 'PASSWORD')\n"
   ]
  },
  {
   "cell_type": "code",
   "execution_count": 4,
   "id": "8e17b036",
   "metadata": {},
   "outputs": [],
   "source": [
    "import cv2\n",
    "import os\n",
    "from keras.models import load_model\n",
    "import numpy as np\n",
    "from pygame import mixer\n",
    "import time\n",
    "\n",
    "\n",
    "face_cascade = cv2.CascadeClassifier(cv2.data.haarcascades + 'haarcascade_frontalface_default.xml')\n",
    "eye_cascade = cv2.CascadeClassifier(cv2.data.haarcascades + 'haarcascade_eye.xml')\n",
    "model = load_model(r'C:\\Users\\SHARUN KUMAR\\PycharmProjects\\Drowsiness Detection\\model\\model.h5')\n",
    "\n",
    "mixer.init()\n",
    "sound = mixer.Sound(r'C:\\Users\\SHARUN KUMAR\\PycharmProjects\\Drowsiness Detection\\alarm.wav')\n",
    "\n",
    "cap = cv2.VideoCapture(0)\n",
    "Score = 0\n",
    "while True:\n",
    "    ret, frame = cap.read()\n",
    "    height, width = frame.shape[0:2]\n",
    "    gray = cv2.cvtColor(frame, cv2.COLOR_BGR2GRAY)\n",
    "    faces = face_cascade.detectMultiScale(gray, scaleFactor=1.2, minNeighbors=3)\n",
    "    eyes = eye_cascade.detectMultiScale(gray, scaleFactor=1.2, minNeighbors=3)\n",
    "\n",
    "    cv2.rectangle(frame, (0, height - 50), (200, height), (0, 0, 0), thickness=cv2.FILLED)\n",
    "\n",
    "    for (x, y, w, h) in faces:\n",
    "        cv2.rectangle(frame, pt1=(x, y), pt2=(x + w, y + h), color=(255, 0, 0), thickness=3)\n",
    "\n",
    "    for (ex, ey, ew, eh) in eyes:\n",
    "        #cv2.rectangle(frame,pt1=(ex,ey),pt2=(ex+ew,ey+eh), color= (255,0,0), thickness=3 )\n",
    "\n",
    "        # preprocessing steps\n",
    "        eye = frame[ey:ey + eh, ex:ex + ew]\n",
    "        eye = cv2.resize(eye, (80, 80))\n",
    "        eye = eye / 255\n",
    "        eye = eye.reshape(80, 80, 3)\n",
    "        eye = np.expand_dims(eye, axis=0)\n",
    "        # preprocessing is done now model prediction\n",
    "        prediction = model.predict(eye)\n",
    "\n",
    "        # if eyes are closed\n",
    "        if prediction[0][0] > 0.10:\n",
    "            cv2.putText(frame, 'closed', (10, height - 20), fontFace=cv2.FONT_HERSHEY_COMPLEX_SMALL, fontScale=1,\n",
    "                        color=(255, 255, 255),\n",
    "                        thickness=1, lineType=cv2.LINE_AA)\n",
    "            \n",
    "            Score = Score + 1\n",
    "            if (Score > 15):\n",
    "                try:\n",
    "                    sound.play()\n",
    "                    import smtplib #importing the module\n",
    "                    sender_add='drowsyab2021@gmail.com' #storing the sender's mail id\n",
    "                    receiver_add='krishnarpana2020@gmail.com' #storing the receiver's mail id\n",
    "                    password='Drowsy@124' #storing the password to log in\n",
    "                     #creating the SMTP server object by giving SMPT server address and port number\n",
    "                    smtp_server=smtplib.SMTP(\"smtp.gmail.com\",587)\n",
    "                    smtp_server.ehlo() #setting the ESMTP protocol\n",
    "                    smtp_server.starttls() #setting up to TLS connection\n",
    "                    smtp_server.ehlo() #calling the ehlo() again as encryption happens on calling startttls()\n",
    "                    smtp_server.login(sender_add,password) #logging into out email id\n",
    "                    msg_to_be_sent ='''\n",
    "                    hello owner!!\n",
    "                    Alert!!!!!!!\n",
    "                    Driver is sleeping.......\n",
    "                    '''\n",
    "                    #sending the mail by specifying the from and to address and the message \n",
    "                    smtp_server.sendmail(sender_add,receiver_add,msg_to_be_sent)\n",
    "                    print('Successfully the mail is sent') #priting a message on sending the mail\n",
    "                    smtp_server.quit()#terminating the server\n",
    "\n",
    "\n",
    "                    \n",
    "                except:\n",
    "                    pass\n",
    "\n",
    "        # if eyes are open\n",
    "        elif prediction[0][1] > 0.50: \n",
    "            cv2.putText(frame, 'open', (10, height - 20), fontFace=cv2.FONT_HERSHEY_COMPLEX_SMALL, fontScale=1,\n",
    "                        color=(255, 255, 255),\n",
    "                        thickness=1, lineType=cv2.LINE_AA)\n",
    "           \n",
    "            if (Score < 0):\n",
    "                Score = 0\n",
    "\n",
    "    cv2.imshow('frame', frame)\n",
    "    if cv2.waitKey(33) & 0xFF == ord('q'):\n",
    "        break\n",
    "\n",
    "cap.release()\n",
    "cv2.destroyAllWindows()\n"
   ]
  },
  {
   "cell_type": "code",
   "execution_count": null,
   "id": "5517fbda",
   "metadata": {},
   "outputs": [],
   "source": []
  },
  {
   "cell_type": "code",
   "execution_count": null,
   "id": "c80dcb91",
   "metadata": {},
   "outputs": [],
   "source": []
  }
 ],
 "metadata": {
  "kernelspec": {
   "display_name": "tensorflow-env",
   "language": "python",
   "name": "tensorflow-env"
  },
  "language_info": {
   "codemirror_mode": {
    "name": "ipython",
    "version": 3
   },
   "file_extension": ".py",
   "mimetype": "text/x-python",
   "name": "python",
   "nbconvert_exporter": "python",
   "pygments_lexer": "ipython3",
   "version": "3.8.12"
  }
 },
 "nbformat": 4,
 "nbformat_minor": 5
}
